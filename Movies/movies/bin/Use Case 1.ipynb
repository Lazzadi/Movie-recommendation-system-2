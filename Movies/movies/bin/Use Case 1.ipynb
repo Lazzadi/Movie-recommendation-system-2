{
 "cells": [
  {
   "cell_type": "code",
   "execution_count": 7,
   "id": "8465b60e-7e8e-4ce5-9d7a-60ef53fa0ea4",
   "metadata": {},
   "outputs": [
    {
     "data": {
      "application/vnd.jupyter.widget-view+json": {
       "model_id": "91e2539ef7fa4e3b895d641155f61569",
       "version_major": 2,
       "version_minor": 0
      },
      "text/plain": [
       "Text(value='Toy Story', description='Movie:')"
      ]
     },
     "metadata": {},
     "output_type": "display_data"
    },
    {
     "data": {
      "application/vnd.jupyter.widget-view+json": {
       "model_id": "4891968046b7404e922477be8a320b65",
       "version_major": 2,
       "version_minor": 0
      },
      "text/plain": [
       "Output()"
      ]
     },
     "metadata": {},
     "output_type": "display_data"
    }
   ],
   "source": [
    "import os\n",
    "import numpy as np\n",
    "import pandas as pd\n",
    "import matplotlib.pyplot as plt\n",
    "\n",
    "import ipywidgets as widgets\n",
    "from IPython.display import display\n",
    "\n",
    "from sklearn.feature_extraction.text import TfidfVectorizer\n",
    "from sklearn.metrics.pairwise import cosine_similarity\n",
    "\n",
    "#Reading data\n",
    "ratings = pd.read_csv('ratings.csv')\n",
    "\n",
    "movies = pd.read_csv(\"movies.csv\", low_memory=False) #Low memory false instructs Pandas to read the full file into memory at once\n",
    "\n",
    "# Initialize TF-IDF vectorizer\n",
    "vectorizer = TfidfVectorizer(ngram_range=(1,2))\n",
    "tfidf = vectorizer.fit_transform(movies['title'])\n",
    "\n",
    "def search(title):\n",
    "    \"\"\"\n",
    "    Function to find similar movies based on a given movie title.\n",
    "\n",
    "    Args:\n",
    "        title (str): The input movie title.\n",
    "\n",
    "    Returns:\n",
    "        pandas DataFrame: DataFrame containing information about the top 5 most similar movies.\n",
    "    \"\"\"\n",
    "    query_vec = vectorizer.transform([title]) #converts the movie title into a TF-IDF vector\n",
    "    similarity = cosine_similarity(query_vec, tfidf).flatten() #calculates the cosine similarity between the vector above and all movie vectors\n",
    "    indices = np.argpartition(similarity, -5)[-5:] #Gets the IDs of top 5 most similar movies\n",
    "    results = movies.iloc[indices][::-1] #retrieved the details of the moveis based on the details above\n",
    "    return results\n",
    "\n",
    "def find_similar_movies(movie_id):\n",
    "    \"\"\"\n",
    "    Function to find movies similar to a given movie ID based on collaborative filtering.\n",
    "\n",
    "    Args:\n",
    "        movie_id (int): The ID of the movie.\n",
    "\n",
    "    Returns:\n",
    "        pandas DataFrame: DataFrame containing information about recommended movies.\n",
    "    \"\"\"\n",
    "    # Find users who rated the given movie highly\n",
    "    similar_users = ratings[(ratings[\"movieId\"] == movie_id) & (ratings[\"rating\"] >4)][\"userId\"].unique()\n",
    "    similar_users_recomendations = ratings[(ratings[\"userId\"].isin(similar_users)) & (ratings[\"rating\"] > 4)][\"movieId\"]\n",
    "\n",
    "    # Calculate the percentage of similar users' recommendations\n",
    "    similar_users_recomendations = similar_users_recomendations.value_counts() / len(similar_users)\n",
    "    similar_users_recomendations = similar_users_recomendations[similar_users_recomendations > .1]\n",
    "\n",
    "    # Get all users' recommendations for the same movies\n",
    "    all_users = ratings [(ratings[\"movieId\"].isin(similar_users_recomendations.index)) & (ratings[\"rating\"] > 4)]\n",
    "    all_users_recomendations = all_users[\"movieId\"].value_counts() / len(all_users[\"userId\"].unique())\n",
    "\n",
    "    # Combine and calculate recommendation scores\n",
    "    recomendation_percentages = pd.concat([similar_users_recomendations, all_users_recomendations], axis = 1)\n",
    "    recomendation_percentages.columns = [\"similar\", \"all\"]\n",
    "    recomendation_percentages[\"score\"] = recomendation_percentages[\"similar\"] / recomendation_percentages[\"all\"]\n",
    "    recomendation_percentages = recomendation_percentages.sort_values(\"score\", ascending = False)\n",
    "\n",
    "    # Merge with movie metadata and return top 10 recommended movies\n",
    "    return recomendation_percentages.head(10).merge(movies, left_on = \"movieId\", right_on = \"movieId\")[[\"score\",\"title\",\"genres\"]]\n",
    "\n",
    "\n",
    "movie_name_input = widgets.Text(\n",
    "    value=\"Toy Story\",\n",
    "    description=\"Movie:\",\n",
    "    disable=False\n",
    ")\n",
    "\n",
    "recommendation_list = widgets.Output()\n",
    "\n",
    "#Function handles input event\n",
    "def on_type(data):\n",
    "    with recommendation_list:\n",
    "        recommendation_list.clear_output()\n",
    "        title = data[\"new\"]\n",
    "        if len(title) > 3:\n",
    "            results = search(title)\n",
    "            movie_id = results.iloc[0][\"movieId\"]\n",
    "            display(find_similar_movies(movie_id))\n",
    "\n",
    "\n",
    "movie_name_input.observe(on_type, names=\"value\")\n",
    "\n",
    "display(movie_name_input, recommendation_list)\n",
    "\n"
   ]
  },
  {
   "cell_type": "code",
   "execution_count": null,
   "id": "6d2ebe01-43e6-4937-8d74-423e96241bb1",
   "metadata": {},
   "outputs": [],
   "source": []
  }
 ],
 "metadata": {
  "kernelspec": {
   "display_name": "Python 3 (ipykernel)",
   "language": "python",
   "name": "python3"
  },
  "language_info": {
   "codemirror_mode": {
    "name": "ipython",
    "version": 3
   },
   "file_extension": ".py",
   "mimetype": "text/x-python",
   "name": "python",
   "nbconvert_exporter": "python",
   "pygments_lexer": "ipython3",
   "version": "3.11.6"
  }
 },
 "nbformat": 4,
 "nbformat_minor": 5
}
