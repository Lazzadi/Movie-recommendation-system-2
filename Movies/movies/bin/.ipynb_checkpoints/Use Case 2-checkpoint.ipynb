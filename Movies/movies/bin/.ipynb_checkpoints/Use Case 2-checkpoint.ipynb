{
 "cells": [
  {
   "cell_type": "code",
   "execution_count": 1,
   "id": "5997a1ef-ca50-474b-8407-9c0d67c862e5",
   "metadata": {},
   "outputs": [
    {
     "name": "stdout",
     "output_type": "stream",
     "text": [
      "['True Lies (1994)']\n",
      "['Pulp Fiction (1994)']\n",
      "['Aladdin (1992)']\n",
      "['Clear and Present Danger (1994)']\n",
      "['Dances with Wolves (1990)']\n",
      "['Apollo 13 (1995)']\n",
      "['Silence of the Lambs, The (1991)']\n",
      "['Beauty and the Beast (1991)']\n",
      "['Ace Ventura: Pet Detective (1994)']\n",
      "['Fugitive, The (1993)']\n"
     ]
    }
   ],
   "source": [
    "import os\n",
    "import numpy as np\n",
    "import pandas as pd\n",
    "import matplotlib.pyplot as plt\n",
    "from sklearn.feature_extraction.text import TfidfVectorizer\n",
    "from sklearn.metrics.pairwise import cosine_similarity\n",
    "\n",
    "ratings = pd.read_csv(\"ratings.csv\")\n",
    "movies = pd.read_csv(\"movies.csv\", low_memory=False)\n",
    "\n",
    "# Initialize TF-IDF vectorizer for movie titles\n",
    "vectorizer = TfidfVectorizer(ngram_range=(1,2))\n",
    "tfidf = vectorizer.fit_transform(movies['title'])\n",
    "\n",
    "#high_ratings contains only the highest rated movies by all users\n",
    "high_ratings = ratings[ratings['rating'] >= 4] \n",
    "\n",
    "#groups movies that are liked by a user\n",
    "grouped_ratings = high_ratings.groupby('userId') \n",
    "liked_movies_by_user = grouped_ratings['movieId'].apply(list).reset_index()\n",
    "\n",
    "#Value used for identifying which user we are doing the search for\n",
    "target_user_id = 47\n",
    "\n",
    "# Get movies liked by the target user\n",
    "target_user_movies = set(liked_movies_by_user[liked_movies_by_user['userId'] == target_user_id]['movieId'].iloc[0])\n",
    "\n",
    "# Calculate Jaccard similarity with other users\n",
    "user_similarity = []\n",
    "for index, row in liked_movies_by_user.iterrows():\n",
    "    if row['userId'] != target_user_id:\n",
    "        other_user_movies = set(row['movieId'])\n",
    "        intersection = len(target_user_movies.intersection(other_user_movies))\n",
    "        union = len(target_user_movies.union(other_user_movies))\n",
    "        similarity = intersection / union\n",
    "        user_similarity.append({'userId': row['userId'], 'similarity': similarity})\n",
    "\n",
    "# Convert similarity results to DataFrame\n",
    "user_similarity_df = pd.DataFrame(user_similarity)\n",
    "\n",
    "# Sort DataFrame by similarity in descending order\n",
    "top_similar_users = user_similarity_df.sort_values(by='similarity', ascending=False)\n",
    "\n",
    "top_three_similar_users = top_similar_users.head(3)['userId'].tolist()\n",
    "\n",
    "movie_ids = []\n",
    "for user in top_three_similar_users:\n",
    "    user_ratings = grouped_ratings.get_group(user)\n",
    "    user_ratings = user_ratings['movieId'].tolist()\n",
    "    movie_ids = movie_ids + user_ratings \n",
    "\n",
    "#remove duplicate titles\n",
    "movie_ids = set(movie_ids)\n",
    "movie_ids = list(movie_ids)\n",
    "\n",
    "target_user_list = grouped_ratings.get_group(1)['movieId'].tolist()\n",
    "\n",
    "#removes movies already watched by target user\n",
    "for movie in movie_ids:\n",
    "    if movie in target_user_list:\n",
    "        movie_ids.remove(movie)\n",
    "\n",
    "\n",
    "genre_preferences = {}\n",
    "genre_list = []\n",
    "\n",
    "# Iterate through the target user's movie list to create a genre preferences dictionary\n",
    "for movie in target_user_movies:\n",
    "    movie_row = movies[movies['movieId'] == movie]\n",
    "    genres = movie_row['genres'].values[0]\n",
    "    genre_list += genres.split('|')\n",
    "\n",
    "for genre in genre_list:\n",
    "    genre_preferences[genre] = genre_preferences.get(genre,0) + 1\n",
    "\n",
    "# Calculate genre scores for each recommended movie\n",
    "movie_genre_score = {}\n",
    "\n",
    "for movie in movie_ids:\n",
    "    movie_genre_score[movie] = 0\n",
    "    genre_list = []\n",
    "    movie_row = movies[movies['movieId'] == movie]\n",
    "    genres = movie_row['genres'].values[0]\n",
    "    genre_list += genres.split('|')\n",
    "    for genre in genre_list:\n",
    "        for key in genre_preferences:\n",
    "            if genre == key:\n",
    "                movie_genre_score[movie] = movie_genre_score[movie] + genre_preferences[key]\n",
    "\n",
    "sorted_dict = dict(sorted(movie_genre_score.items(), key=lambda item: item[1], reverse=True))\n",
    "\n",
    "#prints movie titles\n",
    "for key in sorted_dict:\n",
    "    movie_title = movies.loc[movies['movieId'] == key, 'title'].values\n",
    "    print(movie_title)\n"
   ]
  },
  {
   "cell_type": "code",
   "execution_count": 2,
   "id": "28bef61b-4a20-4604-ad0c-8f5b98051a7b",
   "metadata": {},
   "outputs": [
    {
     "ename": "NameError",
     "evalue": "name 'widgets' is not defined",
     "output_type": "error",
     "traceback": [
      "\u001b[0;31m---------------------------------------------------------------------------\u001b[0m",
      "\u001b[0;31mNameError\u001b[0m                                 Traceback (most recent call last)",
      "Cell \u001b[0;32mIn[2], line 2\u001b[0m\n\u001b[1;32m      1\u001b[0m \u001b[38;5;66;03m# Define the text input widget for the target user ID\u001b[39;00m\n\u001b[0;32m----> 2\u001b[0m target_user_input \u001b[38;5;241m=\u001b[39m \u001b[43mwidgets\u001b[49m\u001b[38;5;241m.\u001b[39mText(value\u001b[38;5;241m=\u001b[39m\u001b[38;5;124m'\u001b[39m\u001b[38;5;124m'\u001b[39m, description\u001b[38;5;241m=\u001b[39m\u001b[38;5;124m'\u001b[39m\u001b[38;5;124mTarget User ID:\u001b[39m\u001b[38;5;124m'\u001b[39m)\n\u001b[1;32m      4\u001b[0m \u001b[38;5;66;03m# Define the output widget to display similar users\u001b[39;00m\n\u001b[1;32m      5\u001b[0m similar_users_output \u001b[38;5;241m=\u001b[39m widgets\u001b[38;5;241m.\u001b[39mOutput()\n",
      "\u001b[0;31mNameError\u001b[0m: name 'widgets' is not defined"
     ]
    }
   ],
   "source": []
  },
  {
   "cell_type": "code",
   "execution_count": null,
   "id": "1afd54bd-5277-499e-8759-ddcceb8e9cc6",
   "metadata": {},
   "outputs": [],
   "source": []
  },
  {
   "cell_type": "code",
   "execution_count": 3,
   "id": "74d2e20f-f332-4614-8be8-b82931a75bbd",
   "metadata": {},
   "outputs": [
    {
     "name": "stdout",
     "output_type": "stream",
     "text": [
      "        userId                                            movieId\n",
      "0            1  [1, 110, 158, 260, 356, 596, 1036, 1066, 1210,...\n",
      "1            2  [1, 6, 17, 21, 34, 36, 47, 50, 110, 141, 150, ...\n",
      "2            3  [296, 318, 858, 2959, 3114, 3751, 4886, 6377, ...\n",
      "3            4  [260, 318, 356, 595, 915, 2324, 2858, 4306, 56...\n",
      "4            5  [47, 175, 257, 318, 319, 337, 527, 778, 1147, ...\n",
      "...        ...                                                ...\n",
      "324411  330971  [50, 150, 260, 296, 509, 527, 541, 593, 858, 9...\n",
      "324412  330972  [3, 5, 6, 7, 10, 11, 17, 34, 47, 50, 62, 141, ...\n",
      "324413  330973  [1777, 2959, 4149, 4226, 5267, 7149, 31685, 58...\n",
      "324414  330974  [50, 110, 260, 318, 527, 587, 597, 780, 1193, ...\n",
      "324415  330975  [69, 265, 431, 497, 912, 923, 1060, 1089, 1221...\n",
      "\n",
      "[324416 rows x 2 columns]\n"
     ]
    }
   ],
   "source": []
  },
  {
   "cell_type": "markdown",
   "id": "233397ef-fccc-4e8c-b57a-f6bbb2257158",
   "metadata": {},
   "source": [
    "## similar_users_recomendations = ratings[(ratings[\"userId\"].isin(similar_users)) & (ratings[\"rating\"] > 4)][\"movieId\"] #Returns moveis that similar users liked"
   ]
  }
 ],
 "metadata": {
  "kernelspec": {
   "display_name": "Python 3 (ipykernel)",
   "language": "python",
   "name": "python3"
  },
  "language_info": {
   "codemirror_mode": {
    "name": "ipython",
    "version": 3
   },
   "file_extension": ".py",
   "mimetype": "text/x-python",
   "name": "python",
   "nbconvert_exporter": "python",
   "pygments_lexer": "ipython3",
   "version": "3.11.6"
  }
 },
 "nbformat": 4,
 "nbformat_minor": 5
}
